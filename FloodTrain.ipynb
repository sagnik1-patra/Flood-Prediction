{
 "cells": [
  {
   "cell_type": "code",
   "execution_count": 1,
   "id": "f0880d30-be6d-47a1-b4a1-820c238a4599",
   "metadata": {},
   "outputs": [
    {
     "name": "stdout",
     "output_type": "stream",
     "text": [
      "Data Shape: (1025801, 16)\n",
      "Columns: ['date', 'lon', 'lat', 'flooded', 'jrc_perm_water', 'precip_1d', 'precip_3d', 'NDVI', 'NDWI', 'landcover', 'elevation', 'slope', 'aspect', 'upstream_area', 'TWI', 'target']\n",
      "H5 file saved at: C:\\Users\\sagni\\Downloads\\Flood Detection\\flood_data.h5\n",
      "PKL file saved at: C:\\Users\\sagni\\Downloads\\Flood Detection\\flood_data.pkl\n"
     ]
    }
   ],
   "source": [
    "import pandas as pd\n",
    "import os\n",
    "\n",
    "csv_path = r\"C:\\Users\\sagni\\Downloads\\Flood Detection\\archive (1)\\modis_flood_features_paling cleaning (1).csv\"\n",
    "output_dir = r\"C:\\Users\\sagni\\Downloads\\Flood Detection\"\n",
    "\n",
    "df = pd.read_csv(csv_path)\n",
    "\n",
    "print(\"Data Shape:\", df.shape)\n",
    "print(\"Columns:\", df.columns.tolist())\n",
    "\n",
    "h5_path = os.path.join(output_dir, \"flood_data.h5\")\n",
    "df.to_hdf(h5_path, key=\"flood_data\", mode=\"w\")\n",
    "print(f\"H5 file saved at: {h5_path}\")\n",
    "\n",
    "pkl_path = os.path.join(output_dir, \"flood_data.pkl\")\n",
    "df.to_pickle(pkl_path)\n",
    "print(f\"PKL file saved at: {pkl_path}\")\n"
   ]
  },
  {
   "cell_type": "code",
   "execution_count": null,
   "id": "fb1a81b3-472b-4316-9483-4f6eb0ef8dda",
   "metadata": {},
   "outputs": [],
   "source": []
  }
 ],
 "metadata": {
  "kernelspec": {
   "display_name": "Python 3.11 (moviepy)",
   "language": "python",
   "name": "py311"
  },
  "language_info": {
   "codemirror_mode": {
    "name": "ipython",
    "version": 3
   },
   "file_extension": ".py",
   "mimetype": "text/x-python",
   "name": "python",
   "nbconvert_exporter": "python",
   "pygments_lexer": "ipython3",
   "version": "3.11.9"
  }
 },
 "nbformat": 4,
 "nbformat_minor": 5
}
