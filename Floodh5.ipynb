{
 "cells": [
  {
   "cell_type": "code",
   "execution_count": 1,
   "id": "1c85982a-245d-4f0e-bb83-21ae273670ce",
   "metadata": {},
   "outputs": [
    {
     "name": "stdout",
     "output_type": "stream",
     "text": [
      "Data Shape: (1025801, 16)\n",
      "Columns: ['date', 'lon', 'lat', 'flooded', 'jrc_perm_water', 'precip_1d', 'precip_3d', 'NDVI', 'NDWI', 'landcover', 'elevation', 'slope', 'aspect', 'upstream_area', 'TWI', 'target']\n",
      "H5 file saved at: C:\\Users\\sagni\\Downloads\\Flood Detection\\flood_data.h5\n",
      "PKL file saved at: C:\\Users\\sagni\\Downloads\\Flood Detection\\flood_data.pkl\n",
      "YAML file saved at: C:\\Users\\sagni\\Downloads\\Flood Detection\\flood_data.yaml\n",
      "TXT file saved at: C:\\Users\\sagni\\Downloads\\Flood Detection\\flood_data.txt\n"
     ]
    }
   ],
   "source": [
    "import pandas as pd\n",
    "import os\n",
    "import yaml\n",
    "\n",
    "# File paths\n",
    "csv_path = r\"C:\\Users\\sagni\\Downloads\\Flood Detection\\archive (1)\\modis_flood_features_paling cleaning (1).csv\"\n",
    "output_dir = r\"C:\\Users\\sagni\\Downloads\\Flood Detection\"\n",
    "\n",
    "# Read the CSV\n",
    "df = pd.read_csv(csv_path)\n",
    "\n",
    "# Display basic info\n",
    "print(\"Data Shape:\", df.shape)\n",
    "print(\"Columns:\", df.columns.tolist())\n",
    "\n",
    "# ---------- Save as HDF5 (.h5) ----------\n",
    "h5_path = os.path.join(output_dir, \"flood_data.h5\")\n",
    "df.to_hdf(h5_path, key=\"flood_data\", mode=\"w\")\n",
    "print(f\"H5 file saved at: {h5_path}\")\n",
    "\n",
    "# ---------- Save as Pickle (.pkl) ----------\n",
    "pkl_path = os.path.join(output_dir, \"flood_data.pkl\")\n",
    "df.to_pickle(pkl_path)\n",
    "print(f\"PKL file saved at: {pkl_path}\")\n",
    "\n",
    "# ---------- Save as YAML (.yaml) ----------\n",
    "yaml_path = os.path.join(output_dir, \"flood_data.yaml\")\n",
    "with open(yaml_path, \"w\") as yaml_file:\n",
    "    yaml.dump(df.to_dict(orient=\"records\"), yaml_file, default_flow_style=False)\n",
    "print(f\"YAML file saved at: {yaml_path}\")\n",
    "\n",
    "# ---------- Save as Text (.txt) ----------\n",
    "txt_path = os.path.join(output_dir, \"flood_data.txt\")\n",
    "df.to_csv(txt_path, sep=\"\\t\", index=False)  # Tab-separated for readability\n",
    "print(f\"TXT file saved at: {txt_path}\")\n"
   ]
  },
  {
   "cell_type": "code",
   "execution_count": null,
   "id": "46fe39bb-ee9c-483a-83c8-7d63f572c74c",
   "metadata": {},
   "outputs": [],
   "source": []
  }
 ],
 "metadata": {
  "kernelspec": {
   "display_name": "Python 3.11 (moviepy)",
   "language": "python",
   "name": "py311"
  },
  "language_info": {
   "codemirror_mode": {
    "name": "ipython",
    "version": 3
   },
   "file_extension": ".py",
   "mimetype": "text/x-python",
   "name": "python",
   "nbconvert_exporter": "python",
   "pygments_lexer": "ipython3",
   "version": "3.11.9"
  }
 },
 "nbformat": 4,
 "nbformat_minor": 5
}
